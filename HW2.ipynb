{
 "cells": [
  {
   "cell_type": "code",
   "execution_count": 3,
   "metadata": {},
   "outputs": [],
   "source": [
    "import pandas as pd\n",
    "import networkx as nx\n",
    "import random\n",
    "import math"
   ]
  },
  {
   "cell_type": "markdown",
   "metadata": {},
   "source": [
    "Метрика, которую будем использовать для сравнения похожести графов:"
   ]
  },
  {
   "cell_type": "code",
   "execution_count": 51,
   "metadata": {},
   "outputs": [],
   "source": [
    "def metrica(el_1, el_2):\n",
    "    res = (min(el_1, (el_1+el_2)/ 2)) / (min(el_2, (el_1+el_2)/ 2))\n",
    "    return res\n",
    "# чем ближе к 1, тем больше похожи графы"
   ]
  },
  {
   "cell_type": "markdown",
   "metadata": {},
   "source": [
    "Перейдем к работе с данными"
   ]
  },
  {
   "cell_type": "code",
   "execution_count": 4,
   "metadata": {},
   "outputs": [],
   "source": [
    "random.seed(1)"
   ]
  },
  {
   "cell_type": "code",
   "execution_count": 5,
   "metadata": {},
   "outputs": [],
   "source": [
    "gt_data = pd.read_excel('globalterrorismdb_0718dist.xlsx')"
   ]
  },
  {
   "cell_type": "code",
   "execution_count": 6,
   "metadata": {},
   "outputs": [
    {
     "data": {
      "text/html": [
       "<div>\n",
       "<style scoped>\n",
       "    .dataframe tbody tr th:only-of-type {\n",
       "        vertical-align: middle;\n",
       "    }\n",
       "\n",
       "    .dataframe tbody tr th {\n",
       "        vertical-align: top;\n",
       "    }\n",
       "\n",
       "    .dataframe thead th {\n",
       "        text-align: right;\n",
       "    }\n",
       "</style>\n",
       "<table border=\"1\" class=\"dataframe\">\n",
       "  <thead>\n",
       "    <tr style=\"text-align: right;\">\n",
       "      <th></th>\n",
       "      <th>eventid</th>\n",
       "      <th>iyear</th>\n",
       "      <th>imonth</th>\n",
       "      <th>iday</th>\n",
       "      <th>approxdate</th>\n",
       "      <th>extended</th>\n",
       "      <th>resolution</th>\n",
       "      <th>country</th>\n",
       "      <th>country_txt</th>\n",
       "      <th>region</th>\n",
       "      <th>...</th>\n",
       "      <th>addnotes</th>\n",
       "      <th>scite1</th>\n",
       "      <th>scite2</th>\n",
       "      <th>scite3</th>\n",
       "      <th>dbsource</th>\n",
       "      <th>INT_LOG</th>\n",
       "      <th>INT_IDEO</th>\n",
       "      <th>INT_MISC</th>\n",
       "      <th>INT_ANY</th>\n",
       "      <th>related</th>\n",
       "    </tr>\n",
       "  </thead>\n",
       "  <tbody>\n",
       "    <tr>\n",
       "      <th>0</th>\n",
       "      <td>197000000001</td>\n",
       "      <td>1970</td>\n",
       "      <td>7</td>\n",
       "      <td>2</td>\n",
       "      <td>NaN</td>\n",
       "      <td>0</td>\n",
       "      <td>NaT</td>\n",
       "      <td>58</td>\n",
       "      <td>Dominican Republic</td>\n",
       "      <td>2</td>\n",
       "      <td>...</td>\n",
       "      <td>NaN</td>\n",
       "      <td>NaN</td>\n",
       "      <td>NaN</td>\n",
       "      <td>NaN</td>\n",
       "      <td>PGIS</td>\n",
       "      <td>0</td>\n",
       "      <td>0</td>\n",
       "      <td>0</td>\n",
       "      <td>0</td>\n",
       "      <td>NaN</td>\n",
       "    </tr>\n",
       "    <tr>\n",
       "      <th>1</th>\n",
       "      <td>197000000002</td>\n",
       "      <td>1970</td>\n",
       "      <td>0</td>\n",
       "      <td>0</td>\n",
       "      <td>NaN</td>\n",
       "      <td>0</td>\n",
       "      <td>NaT</td>\n",
       "      <td>130</td>\n",
       "      <td>Mexico</td>\n",
       "      <td>1</td>\n",
       "      <td>...</td>\n",
       "      <td>NaN</td>\n",
       "      <td>NaN</td>\n",
       "      <td>NaN</td>\n",
       "      <td>NaN</td>\n",
       "      <td>PGIS</td>\n",
       "      <td>0</td>\n",
       "      <td>1</td>\n",
       "      <td>1</td>\n",
       "      <td>1</td>\n",
       "      <td>NaN</td>\n",
       "    </tr>\n",
       "    <tr>\n",
       "      <th>2</th>\n",
       "      <td>197001000001</td>\n",
       "      <td>1970</td>\n",
       "      <td>1</td>\n",
       "      <td>0</td>\n",
       "      <td>NaN</td>\n",
       "      <td>0</td>\n",
       "      <td>NaT</td>\n",
       "      <td>160</td>\n",
       "      <td>Philippines</td>\n",
       "      <td>5</td>\n",
       "      <td>...</td>\n",
       "      <td>NaN</td>\n",
       "      <td>NaN</td>\n",
       "      <td>NaN</td>\n",
       "      <td>NaN</td>\n",
       "      <td>PGIS</td>\n",
       "      <td>-9</td>\n",
       "      <td>-9</td>\n",
       "      <td>1</td>\n",
       "      <td>1</td>\n",
       "      <td>NaN</td>\n",
       "    </tr>\n",
       "    <tr>\n",
       "      <th>3</th>\n",
       "      <td>197001000002</td>\n",
       "      <td>1970</td>\n",
       "      <td>1</td>\n",
       "      <td>0</td>\n",
       "      <td>NaN</td>\n",
       "      <td>0</td>\n",
       "      <td>NaT</td>\n",
       "      <td>78</td>\n",
       "      <td>Greece</td>\n",
       "      <td>8</td>\n",
       "      <td>...</td>\n",
       "      <td>NaN</td>\n",
       "      <td>NaN</td>\n",
       "      <td>NaN</td>\n",
       "      <td>NaN</td>\n",
       "      <td>PGIS</td>\n",
       "      <td>-9</td>\n",
       "      <td>-9</td>\n",
       "      <td>1</td>\n",
       "      <td>1</td>\n",
       "      <td>NaN</td>\n",
       "    </tr>\n",
       "    <tr>\n",
       "      <th>4</th>\n",
       "      <td>197001000003</td>\n",
       "      <td>1970</td>\n",
       "      <td>1</td>\n",
       "      <td>0</td>\n",
       "      <td>NaN</td>\n",
       "      <td>0</td>\n",
       "      <td>NaT</td>\n",
       "      <td>101</td>\n",
       "      <td>Japan</td>\n",
       "      <td>4</td>\n",
       "      <td>...</td>\n",
       "      <td>NaN</td>\n",
       "      <td>NaN</td>\n",
       "      <td>NaN</td>\n",
       "      <td>NaN</td>\n",
       "      <td>PGIS</td>\n",
       "      <td>-9</td>\n",
       "      <td>-9</td>\n",
       "      <td>1</td>\n",
       "      <td>1</td>\n",
       "      <td>NaN</td>\n",
       "    </tr>\n",
       "  </tbody>\n",
       "</table>\n",
       "<p>5 rows × 135 columns</p>\n",
       "</div>"
      ],
      "text/plain": [
       "        eventid  iyear  imonth  iday approxdate  extended resolution  country  \\\n",
       "0  197000000001   1970       7     2        NaN         0        NaT       58   \n",
       "1  197000000002   1970       0     0        NaN         0        NaT      130   \n",
       "2  197001000001   1970       1     0        NaN         0        NaT      160   \n",
       "3  197001000002   1970       1     0        NaN         0        NaT       78   \n",
       "4  197001000003   1970       1     0        NaN         0        NaT      101   \n",
       "\n",
       "          country_txt  region   ...    addnotes scite1 scite2  scite3  \\\n",
       "0  Dominican Republic       2   ...         NaN    NaN    NaN     NaN   \n",
       "1              Mexico       1   ...         NaN    NaN    NaN     NaN   \n",
       "2         Philippines       5   ...         NaN    NaN    NaN     NaN   \n",
       "3              Greece       8   ...         NaN    NaN    NaN     NaN   \n",
       "4               Japan       4   ...         NaN    NaN    NaN     NaN   \n",
       "\n",
       "   dbsource  INT_LOG  INT_IDEO INT_MISC INT_ANY  related  \n",
       "0      PGIS        0         0        0       0      NaN  \n",
       "1      PGIS        0         1        1       1      NaN  \n",
       "2      PGIS       -9        -9        1       1      NaN  \n",
       "3      PGIS       -9        -9        1       1      NaN  \n",
       "4      PGIS       -9        -9        1       1      NaN  \n",
       "\n",
       "[5 rows x 135 columns]"
      ]
     },
     "execution_count": 6,
     "metadata": {},
     "output_type": "execute_result"
    }
   ],
   "source": [
    "gt_data.head()"
   ]
  },
  {
   "cell_type": "code",
   "execution_count": 7,
   "metadata": {},
   "outputs": [],
   "source": [
    "def get_graph_from_year(year):\n",
    "    G_data = gt_data[pd.isnull(gt_data.related) == False][gt_data.iyear == year]\n",
    "\n",
    "    G = nx.Graph()\n",
    "\n",
    "    for eventId in G_data.eventid:\n",
    "        for relation in list(G_data[G_data.eventid == eventId].related)[0].split(','):\n",
    "            if eventId != int(relation) and (eventId, relation) not in G.edges:\n",
    "                G.add_edge(eventId, int(relation))\n",
    "    return G"
   ]
  },
  {
   "cell_type": "markdown",
   "metadata": {},
   "source": [
    "Построим граф для 2006 года"
   ]
  },
  {
   "cell_type": "code",
   "execution_count": 9,
   "metadata": {},
   "outputs": [
    {
     "name": "stderr",
     "output_type": "stream",
     "text": [
      "/Users/kugusha/Documents/AOT/venv/lib/python3.5/site-packages/ipykernel_launcher.py:2: UserWarning: Boolean Series key will be reindexed to match DataFrame index.\n",
      "  \n"
     ]
    },
    {
     "data": {
      "image/png": "[encoded data removed]",
      "text/plain": [
       "<Figure size 432x288 with 1 Axes>"
      ]
     },
     "metadata": {},
     "output_type": "display_data"
    }
   ],
   "source": [
    "G1_sparse = get_graph_from_year(2006)\n",
    "nx.draw(G1_sparse, pos=nx.spring_layout(G1_sparse), nodecolor='r',edge_color='b', with_labels=False)"
   ]
  },
  {
   "cell_type": "markdown",
   "metadata": {},
   "source": [
    "Построим граф для 2009 года"
   ]
  },
  {
   "cell_type": "code",
   "execution_count": 10,
   "metadata": {},
   "outputs": [
    {
     "name": "stderr",
     "output_type": "stream",
     "text": [
      "/Users/kugusha/Documents/AOT/venv/lib/python3.5/site-packages/ipykernel_launcher.py:2: UserWarning: Boolean Series key will be reindexed to match DataFrame index.\n",
      "  \n"
     ]
    },
    {
     "data": {
      "image/png": "[encoded data removed]",
      "text/plain": [
       "<Figure size 432x288 with 1 Axes>"
      ]
     },
     "metadata": {},
     "output_type": "display_data"
    }
   ],
   "source": [
    "G2_sparse = get_graph_from_year(2009)\n",
    "nx.draw(G2_sparse, pos=nx.spring_layout(G2_sparse), nodecolor='r',edge_color='b', with_labels=False)"
   ]
  },
  {
   "cell_type": "code",
   "execution_count": 11,
   "metadata": {},
   "outputs": [],
   "source": [
    "# Соединяем подграфы, пока не наберём больше 50 вершин\n",
    "def get_connected_graph(G):\n",
    "    G_connected = nx.Graph()\n",
    "    for subgraph in nx.connected_component_subgraphs(G):\n",
    "        if len(G_connected.nodes) > 50:\n",
    "            break\n",
    "        if len(G_connected.nodes) > 0:\n",
    "            G_connected.add_edge(random.choice(list(G_connected.nodes)), random.choice(list(subgraph.nodes))) \n",
    "        G_connected.add_edges_from(subgraph.edges)\n",
    "    return G_connected"
   ]
  },
  {
   "cell_type": "code",
   "execution_count": 12,
   "metadata": {},
   "outputs": [
    {
     "data": {
      "image/png": "[encoded data removed]",
      "text/plain": [
       "<Figure size 432x288 with 1 Axes>"
      ]
     },
     "metadata": {},
     "output_type": "display_data"
    }
   ],
   "source": [
    "G1 = get_connected_graph(G1_sparse)\n",
    "nx.draw(G1, pos=nx.spring_layout(G1), nodecolor='r',edge_color='b', with_labels=False)"
   ]
  },
  {
   "cell_type": "code",
   "execution_count": 13,
   "metadata": {},
   "outputs": [
    {
     "data": {
      "image/png": "[encoded data removed]",
      "text/plain": [
       "<Figure size 432x288 with 1 Axes>"
      ]
     },
     "metadata": {},
     "output_type": "display_data"
    }
   ],
   "source": [
    "G2 = get_connected_graph(G2_sparse)\n",
    "nx.draw(G2, pos=nx.spring_layout(G2), nodecolor='r',edge_color='b', with_labels=False)"
   ]
  },
  {
   "cell_type": "markdown",
   "metadata": {},
   "source": [
    "Проверим графы на связанность, наличине изолированных вершин и петель."
   ]
  },
  {
   "cell_type": "code",
   "execution_count": 14,
   "metadata": {},
   "outputs": [
    {
     "data": {
      "text/plain": [
       "True"
      ]
     },
     "execution_count": 14,
     "metadata": {},
     "output_type": "execute_result"
    }
   ],
   "source": [
    "nx.is_connected(G1) and nx.is_connected(G2)"
   ]
  },
  {
   "cell_type": "code",
   "execution_count": 18,
   "metadata": {},
   "outputs": [
    {
     "name": "stdout",
     "output_type": "stream",
     "text": [
      "[] []\n"
     ]
    }
   ],
   "source": [
    "print(list(nx.isolates(G1)), list(nx.isolates(G2)))"
   ]
  },
  {
   "cell_type": "code",
   "execution_count": 22,
   "metadata": {},
   "outputs": [
    {
     "name": "stdout",
     "output_type": "stream",
     "text": [
      "[] []\n"
     ]
    }
   ],
   "source": [
    "print(list(nx.selfloop_edges(G1)), list(nx.selfloop_edges(G2)))"
   ]
  },
  {
   "cell_type": "markdown",
   "metadata": {},
   "source": [
    "## Diameter"
   ]
  },
  {
   "cell_type": "code",
   "execution_count": 35,
   "metadata": {},
   "outputs": [],
   "source": [
    "def bfs(start, G):\n",
    "    q = []\n",
    "    d = {}\n",
    "    mark = {}\n",
    "    \n",
    "    q.append(start);\n",
    "    d[start] = 0;\n",
    "    mark[start] = 1;\n",
    "\n",
    "    while (len(q) > 0):\n",
    "        v = q[0];\n",
    "        del q[0]\n",
    "        for neighbor in G.neighbors(v):\n",
    "            if neighbor not in mark.keys():\n",
    "                d[neighbor] = d[v] + 1;\n",
    "                mark[neighbor] = 1;\n",
    "                q.append(neighbor);\n",
    "    return max(d.values())\n",
    "\n",
    "def diameter(G):        \n",
    "    lengths = []\n",
    "    counter = 0\n",
    "    i = 0\n",
    "    for node in G.nodes():\n",
    "        lengths.append(bfs(node, G))\n",
    "    return max(lengths)\n",
    "\n",
    "D1 = diameter(G1)\n",
    "D2 = diameter(G2)"
   ]
  },
  {
   "cell_type": "code",
   "execution_count": 36,
   "metadata": {},
   "outputs": [
    {
     "name": "stdout",
     "output_type": "stream",
     "text": [
      "G1_diameter = 12 \n",
      "G2_diameter = 12\n"
     ]
    }
   ],
   "source": [
    "print('G1_diameter = {}'.format(D1), '\\nG2_diameter = {}'.format(D2))"
   ]
  },
  {
   "cell_type": "code",
   "execution_count": 52,
   "metadata": {},
   "outputs": [
    {
     "data": {
      "text/plain": [
       "1.0"
      ]
     },
     "execution_count": 52,
     "metadata": {},
     "output_type": "execute_result"
    }
   ],
   "source": [
    "metrica(D1, D2)"
   ]
  },
  {
   "cell_type": "markdown",
   "metadata": {},
   "source": [
    "## Eccentricity"
   ]
  },
  {
   "cell_type": "code",
   "execution_count": 40,
   "metadata": {},
   "outputs": [],
   "source": [
    "def eccentricity(G):\n",
    "    eccentricity = {}\n",
    "    for node in G.nodes:\n",
    "        eccentricity[node] = bfs(node, G)\n",
    "    return eccentricity"
   ]
  },
  {
   "cell_type": "code",
   "execution_count": 462,
   "metadata": {},
   "outputs": [
    {
     "data": {
      "text/plain": [
       "{200601020004: 7,\n",
       " 200601020005: 7,\n",
       " 200601020006: 7,\n",
       " 200601030003: 8,\n",
       " 200601030001: 9,\n",
       " 200601030002: 9,\n",
       " 200601040003: 8,\n",
       " 200601040002: 9,\n",
       " 200601040004: 9,\n",
       " 200601080003: 8,\n",
       " 200601080001: 9,\n",
       " 200601140004: 10,\n",
       " 200601140003: 11,\n",
       " 200601170004: 10,\n",
       " 200601170003: 11,\n",
       " 200601180012: 12,\n",
       " 200601180011: 13,\n",
       " 200601180013: 13,\n",
       " 200601180014: 13,\n",
       " 200601190002: 9,\n",
       " 200601190009: 10,\n",
       " 200601190006: 8,\n",
       " 200601190005: 9,\n",
       " 200601190007: 9,\n",
       " 200601200012: 11,\n",
       " 200601200006: 12,\n",
       " 200601210009: 10,\n",
       " 200601210006: 11,\n",
       " 200601210007: 11,\n",
       " 200601210008: 11,\n",
       " 200601210010: 11,\n",
       " 200601220012: 10,\n",
       " 200601220013: 11,\n",
       " 200601220017: 9,\n",
       " 200601220016: 10,\n",
       " 200601220018: 10,\n",
       " 200601230002: 8,\n",
       " 200601230003: 9,\n",
       " 200601230004: 8,\n",
       " 200601230005: 9,\n",
       " 200601230018: 12,\n",
       " 200601230019: 13,\n",
       " 200601240001: 12,\n",
       " 200601240002: 13,\n",
       " 200601240003: 10,\n",
       " 200601240004: 11,\n",
       " 200601240016: 12,\n",
       " 200601240013: 13,\n",
       " 200601240014: 13,\n",
       " 200601240015: 13,\n",
       " 200601240017: 13}"
      ]
     },
     "execution_count": 462,
     "metadata": {},
     "output_type": "execute_result"
    }
   ],
   "source": [
    "eccentricity(G1)"
   ]
  },
  {
   "cell_type": "code",
   "execution_count": 463,
   "metadata": {},
   "outputs": [
    {
     "data": {
      "text/plain": [
       "{200901010012: 10,\n",
       " 200901010013: 10,\n",
       " 200901010014: 9,\n",
       " 200901010033: 8,\n",
       " 200901010032: 7,\n",
       " 200901010029: 8,\n",
       " 200901010030: 8,\n",
       " 200901030032: 10,\n",
       " 200901030018: 11,\n",
       " 200901040011: 9,\n",
       " 200901040010: 10,\n",
       " 200901090009: 7,\n",
       " 200901090010: 8,\n",
       " 200901100010: 9,\n",
       " 200901100013: 10,\n",
       " 200901160007: 10,\n",
       " 200901160008: 11,\n",
       " 200901160009: 11,\n",
       " 200901160010: 10,\n",
       " 200901160011: 11,\n",
       " 200901160020: 11,\n",
       " 200901160019: 12,\n",
       " 200901260007: 12,\n",
       " 200901260001: 13,\n",
       " 200901260003: 13,\n",
       " 200901310009: 9,\n",
       " 200901310008: 10,\n",
       " 200901310010: 10,\n",
       " 200902110018: 10,\n",
       " 200902110017: 11,\n",
       " 200902130019: 11,\n",
       " 200902130003: 12,\n",
       " 200902220020: 10,\n",
       " 200902220008: 11,\n",
       " 200902220009: 11,\n",
       " 200902220019: 11,\n",
       " 200902260011: 11,\n",
       " 200902260003: 12,\n",
       " 200902260010: 12,\n",
       " 200903030023: 10,\n",
       " 200903030022: 11,\n",
       " 200903150031: 8,\n",
       " 200903140001: 9,\n",
       " 200903170019: 12,\n",
       " 200903170018: 13,\n",
       " 200903180012: 9,\n",
       " 200903180011: 10,\n",
       " 200903180013: 10,\n",
       " 200903240016: 10,\n",
       " 200903240015: 11,\n",
       " 200903250020: 12,\n",
       " 200903250021: 13,\n",
       " 200903250022: 13}"
      ]
     },
     "execution_count": 463,
     "metadata": {},
     "output_type": "execute_result"
    }
   ],
   "source": [
    "eccentricity(G2)"
   ]
  },
  {
   "cell_type": "markdown",
   "metadata": {},
   "source": [
    "## Periphery"
   ]
  },
  {
   "cell_type": "code",
   "execution_count": 464,
   "metadata": {},
   "outputs": [],
   "source": [
    "def periphery(G):\n",
    "    d = diameter(G)\n",
    "    periphery = []\n",
    "    for item in get_eccentricity(G).items():\n",
    "        if item[1] == d:\n",
    "            periphery.append(item[0])\n",
    "    return periphery"
   ]
  },
  {
   "cell_type": "code",
   "execution_count": 465,
   "metadata": {},
   "outputs": [
    {
     "name": "stdout",
     "output_type": "stream",
     "text": [
      "G1_periphery = [200601180011, 200601180013, 200601180014, 200601230019, 200601240002, 200601240013, 200601240014, 200601240015, 200601240017] \n",
      "G2_periphery = [200901260001, 200901260003, 200903170018, 200903250021, 200903250022]\n"
     ]
    }
   ],
   "source": [
    "print('G1_periphery = {}'.format(periphery(G1)), '\\nG2_periphery = {}'.format(periphery(G2)))"
   ]
  },
  {
   "cell_type": "markdown",
   "metadata": {},
   "source": [
    "## Girth"
   ]
  },
  {
   "cell_type": "code",
   "execution_count": 466,
   "metadata": {},
   "outputs": [],
   "source": [
    "def girth(G):\n",
    "    girth = math.inf\n",
    "    for edge in G.edges:\n",
    "        G.remove_edge(edge[0], edge[1])\n",
    "        try:\n",
    "            distance = nx.shortest_path_length(G, edge[0], edge[1])\n",
    "            if girth > distance:\n",
    "                girth = distance + 1\n",
    "        except:\n",
    "            pass\n",
    "        G.add_edge(edge[0], edge[1])\n",
    "    return girth"
   ]
  },
  {
   "cell_type": "code",
   "execution_count": 473,
   "metadata": {},
   "outputs": [
    {
     "name": "stdout",
     "output_type": "stream",
     "text": [
      "G1_girth = 3 \n",
      "G2_girth = 3\n"
     ]
    }
   ],
   "source": [
    "print('G1_girth = {}'.format(girth(G1)), '\\nG2_girth = {}'.format(girth(G2)))"
   ]
  },
  {
   "cell_type": "markdown",
   "metadata": {},
   "source": [
    "## Wiener_index"
   ]
  },
  {
   "cell_type": "code",
   "execution_count": 42,
   "metadata": {},
   "outputs": [],
   "source": [
    "def Floyd_Warshall(G):\n",
    "    matrix = nx.adjacency_matrix(G)\n",
    "    matrix[matrix == 0] = 10**10\n",
    "    for i in range(matrix.shape[0]):\n",
    "        matrix[i, i] = 0\n",
    "\n",
    "    for k in range(matrix.shape[0]):\n",
    "        for i in range(matrix.shape[0]):\n",
    "            for j in range(matrix.shape[0]):\n",
    "                matrix[i, j] = min(matrix[i, j], matrix[i, k] + matrix[k, j])\n",
    "                \n",
    "    return matrix"
   ]
  },
  {
   "cell_type": "code",
   "execution_count": 43,
   "metadata": {},
   "outputs": [
    {
     "name": "stderr",
     "output_type": "stream",
     "text": [
      "/Users/kugusha/Documents/AOT/venv/lib/python3.5/site-packages/scipy/sparse/compressed.py:214: SparseEfficiencyWarning: Comparing a sparse matrix with 0 using == is inefficient, try using != instead.\n",
      "  \", try using != instead.\", SparseEfficiencyWarning)\n",
      "/Users/kugusha/Documents/AOT/venv/lib/python3.5/site-packages/scipy/sparse/compressed.py:746: SparseEfficiencyWarning: Changing the sparsity structure of a csr_matrix is expensive. lil_matrix is more efficient.\n",
      "  SparseEfficiencyWarning)\n"
     ]
    }
   ],
   "source": [
    "G1_distances = Floyd_Warshall(G1)"
   ]
  },
  {
   "cell_type": "code",
   "execution_count": 44,
   "metadata": {},
   "outputs": [],
   "source": [
    "G2_distances = Floyd_Warshall(G2)"
   ]
  },
  {
   "cell_type": "code",
   "execution_count": 45,
   "metadata": {},
   "outputs": [
    {
     "name": "stdout",
     "output_type": "stream",
     "text": [
      "G1_wiener_index = 14058 \n",
      "G2_wiener_index = 14358\n"
     ]
    }
   ],
   "source": [
    "print('G1_wiener_index = {}'.format(G1_distances.sum()), '\\nG2_wiener_index = {}'.format(G2_distances.sum()))"
   ]
  },
  {
   "cell_type": "code",
   "execution_count": 53,
   "metadata": {},
   "outputs": [
    {
     "data": {
      "text/plain": [
       "0.9894425675675675"
      ]
     },
     "execution_count": 53,
     "metadata": {},
     "output_type": "execute_result"
    }
   ],
   "source": [
    "metrica(G1_distances.sum(), G2_distances.sum())"
   ]
  }
 ],
 "metadata": {
  "kernelspec": {
   "display_name": "venv",
   "language": "python",
   "name": "venv"
  },
  "language_info": {
   "codemirror_mode": {
    "name": "ipython",
    "version": 3
   },
   "file_extension": ".py",
   "mimetype": "text/x-python",
   "name": "python",
   "nbconvert_exporter": "python",
   "pygments_lexer": "ipython3",
   "version": "3.5.2"
  }
 },
 "nbformat": 4,
 "nbformat_minor": 2
}
